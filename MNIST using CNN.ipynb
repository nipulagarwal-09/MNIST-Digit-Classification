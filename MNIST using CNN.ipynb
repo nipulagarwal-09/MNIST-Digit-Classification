{
 "cells": [
  {
   "cell_type": "markdown",
   "metadata": {},
   "source": [
    "# MNIST USING CNN"
   ]
  },
  {
   "cell_type": "markdown",
   "metadata": {},
   "source": [
    "### Nipul Agarwal\n",
    "### Delhi Technological University\n",
    "### Engineering Physics"
   ]
  },
  {
   "cell_type": "code",
   "execution_count": 1,
   "metadata": {},
   "outputs": [
    {
     "name": "stderr",
     "output_type": "stream",
     "text": [
      "Using TensorFlow backend.\n"
     ]
    }
   ],
   "source": [
    "from keras.utils import np_utils\n",
    "from keras.datasets import mnist"
   ]
  },
  {
   "cell_type": "code",
   "execution_count": 2,
   "metadata": {},
   "outputs": [],
   "source": [
    "dataset=mnist.load_data()"
   ]
  },
  {
   "cell_type": "code",
   "execution_count": 3,
   "metadata": {},
   "outputs": [
    {
     "name": "stdout",
     "output_type": "stream",
     "text": [
      "(60000, 28, 28, 1)\n",
      "(60000, 10)\n"
     ]
    }
   ],
   "source": [
    "(X_train,y_train),(X_test,y_test)=dataset\n",
    "\n",
    "X_train=X_train.reshape(X_train.shape[0],X_train.shape[1],X_train.shape[2],1)\n",
    "X_test=X_test.reshape(X_test.shape[0],X_test.shape[1],X_test.shape[2],1)\n",
    "\n",
    "X_train=X_train/255\n",
    "X_test=X_test/255\n",
    "\n",
    "Y_train=np_utils.to_categorical(y_train,10)\n",
    "Y_test=np_utils.to_categorical(y_test,10)\n",
    "\n",
    "print(X_train.shape)\n",
    "print(Y_train.shape)"
   ]
  },
  {
   "cell_type": "code",
   "execution_count": 4,
   "metadata": {},
   "outputs": [],
   "source": [
    "from keras.models import Sequential\n",
    "from keras.layers import Dense,Flatten\n",
    "from keras.layers.convolutional import Conv2D,MaxPooling2D"
   ]
  },
  {
   "cell_type": "code",
   "execution_count": 5,
   "metadata": {},
   "outputs": [],
   "source": [
    "width=28\n",
    "height=28\n",
    "batch_size=256\n",
    "epochs=20\n",
    "model=Sequential()\n",
    "#Conv Layer-1\n",
    "model.add(Conv2D(6,kernel_size=5,input_shape=(width,height,1),data_format='channels_last',padding='same',activation='relu'))\n",
    "\n",
    "#Max Pool Layer-1\n",
    "model.add(MaxPooling2D(pool_size=(2,2),strides=(2,2)))\n",
    "\n",
    "#Conv Layer-2\n",
    "model.add(Conv2D(16,kernel_size=5,activation='relu'))\n",
    "\n",
    "#Max Pool Layer-2\n",
    "model.add(MaxPooling2D(pool_size=(2,2),strides=(2,2)))\n",
    "\n",
    "#Conv Layer-3\n",
    "model.add(Conv2D(120,kernel_size=5,activation='relu'))\n",
    "model.add(Flatten())\n",
    "\n",
    "#Fully Connected Layer-1\n",
    "model.add(Dense(84,activation='relu'))\n",
    "\n",
    "#Softmax\n",
    "model.add(Dense(10,activation='softmax'))\n"
   ]
  },
  {
   "cell_type": "code",
   "execution_count": 6,
   "metadata": {},
   "outputs": [
    {
     "name": "stdout",
     "output_type": "stream",
     "text": [
      "Model: \"sequential_1\"\n",
      "_________________________________________________________________\n",
      "Layer (type)                 Output Shape              Param #   \n",
      "=================================================================\n",
      "conv2d_1 (Conv2D)            (None, 28, 28, 6)         156       \n",
      "_________________________________________________________________\n",
      "max_pooling2d_1 (MaxPooling2 (None, 14, 14, 6)         0         \n",
      "_________________________________________________________________\n",
      "conv2d_2 (Conv2D)            (None, 10, 10, 16)        2416      \n",
      "_________________________________________________________________\n",
      "max_pooling2d_2 (MaxPooling2 (None, 5, 5, 16)          0         \n",
      "_________________________________________________________________\n",
      "conv2d_3 (Conv2D)            (None, 1, 1, 120)         48120     \n",
      "_________________________________________________________________\n",
      "flatten_1 (Flatten)          (None, 120)               0         \n",
      "_________________________________________________________________\n",
      "dense_1 (Dense)              (None, 84)                10164     \n",
      "_________________________________________________________________\n",
      "dense_2 (Dense)              (None, 10)                850       \n",
      "=================================================================\n",
      "Total params: 61,706\n",
      "Trainable params: 61,706\n",
      "Non-trainable params: 0\n",
      "_________________________________________________________________\n"
     ]
    }
   ],
   "source": [
    "model.summary()"
   ]
  },
  {
   "cell_type": "code",
   "execution_count": 7,
   "metadata": {},
   "outputs": [],
   "source": [
    "model.compile(optimizer='adam',loss='categorical_crossentropy',metrics=['accuracy'])"
   ]
  },
  {
   "cell_type": "code",
   "execution_count": 8,
   "metadata": {},
   "outputs": [
    {
     "name": "stdout",
     "output_type": "stream",
     "text": [
      "Train on 60000 samples, validate on 10000 samples\n",
      "Epoch 1/20\n",
      "60000/60000 [==============================] - 14s 225us/step - loss: 0.4093 - accuracy: 0.8749 - val_loss: 0.1070 - val_accuracy: 0.9659\n",
      "Epoch 2/20\n",
      "60000/60000 [==============================] - 15s 253us/step - loss: 0.0983 - accuracy: 0.9702 - val_loss: 0.0703 - val_accuracy: 0.9774\n",
      "Epoch 3/20\n",
      "60000/60000 [==============================] - 18s 293us/step - loss: 0.0709 - accuracy: 0.9781 - val_loss: 0.0519 - val_accuracy: 0.9827\n",
      "Epoch 4/20\n",
      "60000/60000 [==============================] - 19s 318us/step - loss: 0.0580 - accuracy: 0.9821 - val_loss: 0.0568 - val_accuracy: 0.9826\n",
      "Epoch 5/20\n",
      "60000/60000 [==============================] - 19s 312us/step - loss: 0.0485 - accuracy: 0.9852 - val_loss: 0.0432 - val_accuracy: 0.9851\n",
      "Epoch 6/20\n",
      "60000/60000 [==============================] - 18s 293us/step - loss: 0.0404 - accuracy: 0.9874 - val_loss: 0.0353 - val_accuracy: 0.9873\n",
      "Epoch 7/20\n",
      "60000/60000 [==============================] - 18s 293us/step - loss: 0.0362 - accuracy: 0.9888 - val_loss: 0.0325 - val_accuracy: 0.9897\n",
      "Epoch 8/20\n",
      "60000/60000 [==============================] - 22s 373us/step - loss: 0.0304 - accuracy: 0.9905 - val_loss: 0.0387 - val_accuracy: 0.9871\n",
      "Epoch 9/20\n",
      "60000/60000 [==============================] - 26s 440us/step - loss: 0.0280 - accuracy: 0.9914 - val_loss: 0.0348 - val_accuracy: 0.9894\n",
      "Epoch 10/20\n",
      "60000/60000 [==============================] - 22s 373us/step - loss: 0.0235 - accuracy: 0.9926 - val_loss: 0.0311 - val_accuracy: 0.9905\n",
      "Epoch 11/20\n",
      "60000/60000 [==============================] - 22s 366us/step - loss: 0.0215 - accuracy: 0.9934 - val_loss: 0.0275 - val_accuracy: 0.9906\n",
      "Epoch 12/20\n",
      "60000/60000 [==============================] - 25s 412us/step - loss: 0.0193 - accuracy: 0.9940 - val_loss: 0.0307 - val_accuracy: 0.9904\n",
      "Epoch 13/20\n",
      "60000/60000 [==============================] - 26s 428us/step - loss: 0.0162 - accuracy: 0.9947 - val_loss: 0.0295 - val_accuracy: 0.9911\n",
      "Epoch 14/20\n",
      "60000/60000 [==============================] - 25s 410us/step - loss: 0.0162 - accuracy: 0.9947 - val_loss: 0.0342 - val_accuracy: 0.9884\n",
      "Epoch 15/20\n",
      "60000/60000 [==============================] - 23s 376us/step - loss: 0.0143 - accuracy: 0.9953 - val_loss: 0.0312 - val_accuracy: 0.9904\n",
      "Epoch 16/20\n",
      "60000/60000 [==============================] - 21s 352us/step - loss: 0.0137 - accuracy: 0.9956 - val_loss: 0.0378 - val_accuracy: 0.9886\n",
      "Epoch 17/20\n",
      "60000/60000 [==============================] - 24s 401us/step - loss: 0.0119 - accuracy: 0.9962 - val_loss: 0.0316 - val_accuracy: 0.9917\n",
      "Epoch 18/20\n",
      "60000/60000 [==============================] - 22s 374us/step - loss: 0.0096 - accuracy: 0.9972 - val_loss: 0.0330 - val_accuracy: 0.9910\n",
      "Epoch 19/20\n",
      "60000/60000 [==============================] - 26s 435us/step - loss: 0.0098 - accuracy: 0.9970 - val_loss: 0.0318 - val_accuracy: 0.9917\n",
      "Epoch 20/20\n",
      "60000/60000 [==============================] - 25s 414us/step - loss: 0.0082 - accuracy: 0.9971 - val_loss: 0.0380 - val_accuracy: 0.9898\n"
     ]
    }
   ],
   "source": [
    "history=model.fit(X_train,Y_train,batch_size=batch_size,epochs=epochs,validation_data=(X_test,Y_test))"
   ]
  },
  {
   "cell_type": "code",
   "execution_count": 9,
   "metadata": {},
   "outputs": [
    {
     "name": "stdout",
     "output_type": "stream",
     "text": [
      "10000/10000 [==============================] - 3s 299us/step\n",
      "Score 0.037989035464676496\n",
      "Accuracy 0.989799976348877\n"
     ]
    }
   ],
   "source": [
    "pred=model.evaluate(X_test,Y_test)\n",
    "print(\"Score\",pred[0])\n",
    "print(\"Accuracy\",pred[1])"
   ]
  },
  {
   "cell_type": "code",
   "execution_count": 10,
   "metadata": {},
   "outputs": [
    {
     "data": {
      "image/png": "[encoded data removed]",
      "text/plain": [
       "<Figure size 432x288 with 1 Axes>"
      ]
     },
     "metadata": {
      "needs_background": "light"
     },
     "output_type": "display_data"
    }
   ],
   "source": [
    "import matplotlib.pyplot as plt\n",
    "fig,ax=plt.subplots(1,1)\n",
    "ax.set_xlabel('epoch')\n",
    "ax.set_ylabel('loss')\n",
    "\n",
    "x=list(range(1,epochs+1))\n",
    "\n",
    "vy=history.history['val_loss']\n",
    "ty=history.history['loss']\n",
    "\n",
    "def plt_dynamic(x,y,y_1,ax,colors=['b']):\n",
    "    ax.plot(x,y,'b',label='Train loss')\n",
    "    ax.plot(x,y_1,'r',label='Test loss')\n",
    "    plt.legend()\n",
    "    fig.canvas.draw()\n",
    "plt_dynamic(x,vy,ty,ax)"
   ]
  },
  {
   "cell_type": "code",
   "execution_count": null,
   "metadata": {},
   "outputs": [],
   "source": []
  }
 ],
 "metadata": {
  "kernelspec": {
   "display_name": "Python 3",
   "language": "python",
   "name": "python3"
  },
  "language_info": {
   "codemirror_mode": {
    "name": "ipython",
    "version": 3
   },
   "file_extension": ".py",
   "mimetype": "text/x-python",
   "name": "python",
   "nbconvert_exporter": "python",
   "pygments_lexer": "ipython3",
   "version": "3.6.12"
  }
 },
 "nbformat": 4,
 "nbformat_minor": 2
}
